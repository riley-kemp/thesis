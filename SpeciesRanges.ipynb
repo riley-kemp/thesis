{
 "cells": [
  {
   "cell_type": "markdown",
   "id": "a0f48a94-ad95-4a0d-ac43-dc00079743ce",
   "metadata": {},
   "source": [
    "# Get IWT country occurances, per trade route segment for the most mentioned species in the literature review database\n",
    "### Code reads in a specifically formatted Excel file, and outputs both a count and list of IWT Country Occurances, per Trade Route Segment, per species.\n",
    "### Output data is used for the top species mentioned across the literature chart."
   ]
  },
  {
   "cell_type": "code",
   "execution_count": 7,
   "id": "c3d33234-3a1e-4f42-9331-bc3bd881483f",
   "metadata": {},
   "outputs": [],
   "source": [
    "import pandas as pd\n",
    "\n",
    "# Read data\n",
    "file_path = \"Data/top_species_count.xlsx\"\n",
    "df = pd.read_excel(file_path, \"Sheet1\")\n",
    "\n",
    "# Group data by species\n",
    "df = df.map(lambda x: x.lower() if type(x) == str else x)\n",
    "grouped = df.groupby(\"species\")\n",
    "\n",
    "# Function to filter missing (NaN, or \"Not Specified)\n",
    "def filter_countries(countries):\n",
    "    return [country for country in countries if country != \"not specified\" and pd.notna(country)]\n",
    "\n",
    "# Create empty results list\n",
    "results = []\n",
    "\n",
    "# Iterate through species\n",
    "for species, group in grouped:\n",
    "    \n",
    "    # Get unique countries from each trade route stage\n",
    "    supply_countries = filter_countries(group[\"Supply country\"].unique().tolist())\n",
    "    transit_countries = filter_countries(pd.concat([group[\"transit country 1\"], group[\"transit country 2\"], group[\"transit country 3\"]]).unique().tolist())\n",
    "    demand_countries = filter_countries(group[\"demand/consumer country\"].unique().tolist())\n",
    "    \n",
    "    # Combine all countries\n",
    "    all_countries = list(set(supply_countries + transit_countries + demand_countries))\n",
    "    \n",
    "    # Display countries at each per species (one species per row)\n",
    "    row = {\n",
    "        \"Species\": species.capitalize(),\n",
    "        \"Supply Countries Count\": len(supply_countries),\n",
    "        \"Supply Countries\": \", \".join(map(str, supply_countries)),\n",
    "        \"Transit Countries Count\": len(transit_countries),\n",
    "        \"Transit Countries\": \", \".join(map(str, transit_countries)),\n",
    "        \"Demand Countries Count\": len(demand_countries),\n",
    "        \"Demand Countries\": \", \".join(map(str, demand_countries)),\n",
    "        \"All Countries Count\": len(all_countries),\n",
    "        \"All Countries\": \", \".join(map(str, all_countries))\n",
    "    }\n",
    "    \n",
    "    # Append the species row to the results\n",
    "    results.append(row)\n",
    "\n",
    "# Export the result\n",
    "result_df = pd.DataFrame(results)\n",
    "output_file_path = \"Output/species_country_summary.xlsx\"\n",
    "result_df.to_excel(output_file_path, index=False)"
   ]
  }
 ],
 "metadata": {
  "kernelspec": {
   "display_name": "Python 3 (ipykernel)",
   "language": "python",
   "name": "python3"
  },
  "language_info": {
   "codemirror_mode": {
    "name": "ipython",
    "version": 3
   },
   "file_extension": ".py",
   "mimetype": "text/x-python",
   "name": "python",
   "nbconvert_exporter": "python",
   "pygments_lexer": "ipython3",
   "version": "3.12.3"
  }
 },
 "nbformat": 4,
 "nbformat_minor": 5
}
