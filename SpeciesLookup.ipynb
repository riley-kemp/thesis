{
 "cells": [
  {
   "cell_type": "markdown",
   "id": "714806be-84c8-4fc5-8c1e-26409107cf88",
   "metadata": {},
   "source": [
    "# Taxonomic Check\n",
    "### Code reads in an Excel file of species names and checks their validity using the GBIF API.\n",
    "### ChatGPT was used to create the GBIF API function."
   ]
  },
  {
   "cell_type": "code",
   "execution_count": 2,
   "id": "65eeebc6-4d8e-44a9-a786-f2168dfbec89",
   "metadata": {},
   "outputs": [],
   "source": [
    "import requests\n",
    "import pandas as pd\n",
    "\n",
    "def get_taxonomic_info(taxa):\n",
    "    base_url = \"https://api.gbif.org/v1/species/match\"\n",
    "    params = {\"name\": taxa}\n",
    "    response = requests.get(base_url, params=params)\n",
    "    if response.status_code == 200:\n",
    "        data = response.json()\n",
    "        if \"kingdom\" in data:\n",
    "            return {\n",
    "                \"Kingdom\": data.get(\"kingdom\"),\n",
    "                \"Phylum\": data.get(\"phylum\"),\n",
    "                \"Class\": data.get(\"class\"),\n",
    "                \"Order\": data.get(\"order\"),\n",
    "                \"Family\": data.get(\"family\"),\n",
    "                \"Genus\": data.get(\"genus\"),\n",
    "                \"Species\": data.get(\"species\"),\n",
    "                \"Scientific Name\": data.get(\"scientificName\"),\n",
    "                \"Rank\": data.get(\"rank\"),\n",
    "                \"Status\": data.get(\"status\"),\n",
    "                \"Confidence\": data.get(\"confidence\"),\n",
    "                \"Canonical Name\": data.get(\"canonicalName\"),\n",
    "            }\n",
    "        else:\n",
    "            return {\"Error\": \"Taxa not found.\"}\n",
    "    else:\n",
    "        return {\"Error\": f\"Failed to fetch data (Status Code: {response.status_code})\"}"
   ]
  },
  {
   "cell_type": "code",
   "execution_count": 9,
   "id": "7120fe10-61cb-4ced-ab88-00f3e2cbb8ab",
   "metadata": {},
   "outputs": [],
   "source": [
    "# Read data\n",
    "df = pd.read_excel(\"Data/species.xlsx\")\n",
    "\n",
    "# Empty results list\n",
    "taxonomic_results = []\n",
    "\n",
    "# Retrieve taxonomic information for each taxa in the excel file\n",
    "for taxa in df[\"Taxa\"]:\n",
    "    taxonomic_results.append(get_taxonomic_info(taxa))\n",
    "\n",
    "# Convert results to dataframe\n",
    "results = pd.DataFrame(taxonomic_results)\n",
    "\n",
    "# Convert dataframe to excel\n",
    "results.to_excel(\"Output/taxonomic_check.xlsx\", index=False)"
   ]
  }
 ],
 "metadata": {
  "kernelspec": {
   "display_name": "Python 3 (ipykernel)",
   "language": "python",
   "name": "python3"
  },
  "language_info": {
   "codemirror_mode": {
    "name": "ipython",
    "version": 3
   },
   "file_extension": ".py",
   "mimetype": "text/x-python",
   "name": "python",
   "nbconvert_exporter": "python",
   "pygments_lexer": "ipython3",
   "version": "3.12.3"
  }
 },
 "nbformat": 4,
 "nbformat_minor": 5
}
