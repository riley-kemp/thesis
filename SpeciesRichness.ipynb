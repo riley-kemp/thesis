{
 "cells": [
  {
   "cell_type": "markdown",
   "id": "ec8cab36-3b54-4139-a054-89f1d35f27e5",
   "metadata": {},
   "source": [
    "# Species Richness Aggregation\n",
    "### Code reads in a database of species, and aggregates that data into a count of species, per country.\n",
    "### The output data from this is used in the GLM."
   ]
  },
  {
   "cell_type": "code",
   "execution_count": 3,
   "id": "d29ba759-e1a8-4be7-849a-19d32339a62a",
   "metadata": {},
   "outputs": [
    {
     "name": "stderr",
     "output_type": "stream",
     "text": [
      "C:\\Users\\Riley\\AppData\\Local\\Temp\\ipykernel_21084\\3747690761.py:4: DtypeWarning: Columns (3,4) have mixed types. Specify dtype option on import or set low_memory=False.\n",
      "  df = pd.read_csv(\"Data/Species_Database_wb_datanam.csv\")\n"
     ]
    }
   ],
   "source": [
    "import pandas as pd\n",
    "\n",
    "# Read in data\n",
    "df = pd.read_csv(\"Data/Species_Database_wb_datanam.csv\")\n",
    "\n",
    "# Group data by country and binomial species name, counting the number of species names in each country\n",
    "summarize = df.groupby(\"iso_a3\")[\"binomial\"].nunique().reset_index()\n",
    "\n",
    "# Rename the columns\n",
    "summarize.columns = [\"Country\", \"Species Count\"]\n",
    "\n",
    "# Export data\n",
    "summarize.to_excel(\"Output/species_per_country.xlsx\", index = False)"
   ]
  }
 ],
 "metadata": {
  "kernelspec": {
   "display_name": "Python 3 (ipykernel)",
   "language": "python",
   "name": "python3"
  },
  "language_info": {
   "codemirror_mode": {
    "name": "ipython",
    "version": 3
   },
   "file_extension": ".py",
   "mimetype": "text/x-python",
   "name": "python",
   "nbconvert_exporter": "python",
   "pygments_lexer": "ipython3",
   "version": "3.12.3"
  }
 },
 "nbformat": 4,
 "nbformat_minor": 5
}
